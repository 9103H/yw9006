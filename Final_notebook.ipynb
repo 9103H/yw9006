{
 "cells": [
  {
   "cell_type": "markdown",
   "metadata": {},
   "source": [
    "https://www.kaggle.com/datasets/nikhilgawai/sign-language-dataset"
   ]
  },
  {
   "cell_type": "markdown",
   "metadata": {},
   "source": [
    "1. Load the Dataset:\n",
    "Download the dataset from the Kaggle link and load it locally.\n",
    "Use libraries like tensorflow, numpy, and matplotlib."
   ]
  },
  {
   "cell_type": "markdown",
   "metadata": {},
   "source": [
    "2. Preprocess Data:\n",
    "Resize images to a uniform size (e.g., 64×64,64×64).\n",
    "Normalize pixel values to a range?\n",
    "Split data into train/test datasets/Split the data into training, validation, and test sets.\n",
    "Split independent features and classification label and load them into Tensors\n",
    "Create DataLoader instances (we'll see what this means below)"
   ]
  },
  {
   "cell_type": "markdown",
   "metadata": {},
   "source": [
    "3.Create the Model:\n",
    "Build a NN model\n",
    "Set up an optimizer\n",
    "Pick a cost/loss function\n",
    "Implement an evaluation function and any other kind of visualization that helps quantify the model"
   ]
  },
  {
   "cell_type": "markdown",
   "metadata": {},
   "source": [
    "\n",
    "4.Train the Model:\n",
    "Train model\n",
    "Evaluate"
   ]
  },
  {
   "cell_type": "markdown",
   "metadata": {},
   "source": [
    "5.Visualize Results:"
   ]
  }
 ],
 "metadata": {
  "language_info": {
   "name": "python"
  }
 },
 "nbformat": 4,
 "nbformat_minor": 2
}
